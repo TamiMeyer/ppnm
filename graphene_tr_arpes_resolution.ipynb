{
  "nbformat": 4,
  "nbformat_minor": 0,
  "metadata": {
    "colab": {
      "provenance": [],
      "authorship_tag": "ABX9TyMs2Zn4NsP+N9SMMPDpVt6u",
      "include_colab_link": true
    },
    "kernelspec": {
      "name": "python3",
      "display_name": "Python 3"
    },
    "language_info": {
      "name": "python"
    }
  },
  "cells": [
    {
      "cell_type": "markdown",
      "metadata": {
        "id": "view-in-github",
        "colab_type": "text"
      },
      "source": [
        "<a href=\"https://colab.research.google.com/github/TamiMeyer/ppnm/blob/main/graphene_tr_arpes_resolution.ipynb\" target=\"_parent\"><img src=\"https://colab.research.google.com/assets/colab-badge.svg\" alt=\"Open In Colab\"/></a>"
      ]
    },
    {
      "cell_type": "code",
      "execution_count": null,
      "metadata": {
        "id": "nSZko0HSSFHB"
      },
      "outputs": [],
      "source": [
        "hbar = 6.582119514e-16  # Reduced Planck constant in eV*s\n",
        "m_e = 9.10938356e-31  # Electron mass in kg\n",
        "Ekin = 20 #eV\n",
        "theta = np.radians(15)\n",
        "deltatheta = np.radians(0.1)\n",
        "\n",
        "np.sqrt(2*m_e*Ekin)*np.cos(theta) * deltatheta/hbar"
      ]
    }
  ]
}